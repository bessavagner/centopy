{
    "cells": [
        {
            "cell_type": "markdown",
            "metadata": {},
            "source": [
                "# Example usage\n",
                "\n",
                "To use `centopy` in a project:"
            ]
        },
        {
            "cell_type": "code",
            "execution_count": 1,
            "metadata": {},
            "outputs": [
                {
                    "name": "stdout",
                    "output_type": "stream",
                    "text": [
                        "0.2.2\n"
                    ]
                }
            ],
            "source": [
                "import centopy\n",
                "\n",
                "print(centopy.__version__)"
            ]
        },
        {
            "cell_type": "markdown",
            "metadata": {},
            "source": [
                "## Text file operation\n",
                "\n",
                "The `centopy.FilesManager` class works as an adapter to the use of context manager when making CRUD operations, like:\n",
                "\n",
                "```python\n",
                "with open('file.txt') as file_:\n",
                "    file.write('hello')\n",
                "```\n",
                "\n",
                "So, every action on files closes it after perfoming the intended operation."
            ]
        },
        {
            "cell_type": "code",
            "execution_count": 2,
            "metadata": {},
            "outputs": [
                {
                    "name": "stdout",
                    "output_type": "stream",
                    "text": [
                        "<class 'pathlib.PosixPath'>\n"
                    ]
                }
            ],
            "source": [
                "wdir = 'data'\n",
                "manager = centopy.FilesManager(folder_path=wdir)\n",
                "\n",
                "# now manager.folder_path is a pathlib.Path object\n",
                "print(type(manager.folder_path))"
            ]
        },
        {
            "cell_type": "code",
            "execution_count": 3,
            "metadata": {},
            "outputs": [
                {
                    "name": "stdout",
                    "output_type": "stream",
                    "text": [
                        "Hello, Centopy!\n"
                    ]
                }
            ],
            "source": [
                "# Write text to a file\n",
                "file_contents = \"Hello, Centopy!\"\n",
                "manager.write(\"hello.txt\", file_contents)\n",
                "\n",
                "# Read the written file\n",
                "read_contents = manager.read(\"hello.txt\")\n",
                "print(read_contents)  # Output: Hello, Centopy!\n"
            ]
        },
        {
            "cell_type": "markdown",
            "metadata": {},
            "source": [
                "## Binary file operation"
            ]
        },
        {
            "cell_type": "code",
            "execution_count": 4,
            "metadata": {},
            "outputs": [
                {
                    "name": "stdout",
                    "output_type": "stream",
                    "text": [
                        "b'Hello world'\n"
                    ]
                }
            ],
            "source": [
                "# Initial binary data\n",
                "initial_data = b\"\\x48\\x65\\x6C\\x6C\\x6F\"  # Corresponds to \"Hello\"\n",
                "manager.writeb(\"data.bin\", initial_data)\n",
                "\n",
                "# Append binary data\n",
                "new_data = b\"\\x20\\x77\\x6F\\x72\\x6C\\x64\"  # Corresponds to \" world\"\n",
                "manager.appendb(\"data.bin\", new_data)\n",
                "\n",
                "# Read the appended binary data\n",
                "appended_data = manager.readb(\"data.bin\")\n",
                "print(appended_data)  # Output: b'Hello world'\n"
            ]
        },
        {
            "cell_type": "markdown",
            "metadata": {},
            "source": [
                "## List files"
            ]
        },
        {
            "cell_type": "code",
            "execution_count": 5,
            "metadata": {},
            "outputs": [
                {
                    "data": {
                        "text/plain": [
                            "['file.customzip', 'data.bin', 'binary_data.bin', 'hello.txt']"
                        ]
                    },
                    "execution_count": 5,
                    "metadata": {},
                    "output_type": "execute_result"
                }
            ],
            "source": [
                "manager.list_files()"
            ]
        },
        {
            "cell_type": "markdown",
            "metadata": {},
            "source": [
                "## Files state"
            ]
        },
        {
            "cell_type": "code",
            "execution_count": 6,
            "metadata": {},
            "outputs": [
                {
                    "name": "stdout",
                    "output_type": "stream",
                    "text": [
                        "saved\n",
                        "loaded\n",
                        "deleted\n"
                    ]
                }
            ],
            "source": [
                "file_name = 'hello2.txt'\n",
                "\n",
                "file_contents = \"Hello again, Centopy!\"\n",
                "manager.write(file_name, file_contents)\n",
                "print(manager.get_file_state(file_name))\n",
                "\n",
                "read_contents = manager.read(file_name)\n",
                "print(manager.get_file_state(file_name))\n",
                "\n",
                "manager.delete_file(file_name)\n",
                "print(manager.get_file_state(file_name))"
            ]
        },
        {
            "cell_type": "markdown",
            "metadata": {},
            "source": [
                "\n",
                "A `loaded` state simply means that the contents of the file were saved\n",
                "in a variable"
            ]
        },
        {
            "cell_type": "markdown",
            "metadata": {},
            "source": [
                "### Appending data"
            ]
        },
        {
            "cell_type": "code",
            "execution_count": 7,
            "metadata": {},
            "outputs": [
                {
                    "name": "stdout",
                    "output_type": "stream",
                    "text": [
                        ">>hello.txt's state: saved\n",
                        ">>hello.txt's updated content: \n",
                        "Hello, Centopy!\n",
                        "Let's make some changes!\n",
                        ">>hello.txt's new state: loaded\n"
                    ]
                }
            ],
            "source": [
                "file_name = 'hello.txt'\n",
                "content = \"\\nLet's make some changes!\"\n",
                "manager.append(file_name=file_name, file_contents=content)\n",
                "\n",
                "print(f\">>{file_name}'s state: {manager.get_file_state(file_name)}\")\n",
                "\n",
                "entire_content = manager.read(file_name)\n",
                "\n",
                "print(f\">>{file_name}'s updated content: \\n{entire_content}\")\n",
                "print(f\">>{file_name}'s new state: {manager.get_file_state(file_name)}\")"
            ]
        },
        {
            "cell_type": "markdown",
            "metadata": {},
            "source": [
                "### String representation"
            ]
        },
        {
            "cell_type": "code",
            "execution_count": 8,
            "metadata": {},
            "outputs": [
                {
                    "name": "stdout",
                    "output_type": "stream",
                    "text": [
                        "Working dir: /home/bessa/Documents/projetos/centopy/docs/data\n",
                        "file.customzip: unknown\n",
                        "data.bin: loaded\n",
                        "binary_data.bin: unknown\n",
                        "hello.txt: loaded\n"
                    ]
                }
            ],
            "source": [
                "print(manager)"
            ]
        },
        {
            "cell_type": "markdown",
            "metadata": {},
            "source": [
                "## Compress (zip) file operations\n",
                "\n",
                "### Writing, appending and removing files"
            ]
        },
        {
            "cell_type": "code",
            "execution_count": 9,
            "metadata": {},
            "outputs": [],
            "source": [
                "import shutil\n",
                "from pathlib import Path"
            ]
        },
        {
            "cell_type": "code",
            "execution_count": 10,
            "metadata": {},
            "outputs": [
                {
                    "name": "stdout",
                    "output_type": "stream",
                    "text": [
                        ">> Appended content:\n",
                        "Hello, this is a new file!\n",
                        "Additional data appended.\n",
                        ">> Files in folder 'data': ['file.customzip', 'data.txt']\n"
                    ]
                }
            ],
            "source": [
                "wdir = 'data'\n",
                "shutil.rmtree(wdir)\n",
                "\n",
                "file_name = 'data.txt'\n",
                "\n",
                "# Create a Compressor object\n",
                "archive = centopy.Compressor('file', extension='customzip', wdir='data')\n",
                "\n",
                "# Write text content to a new file and add it to the archive\n",
                "# overwrite if it's already a member of archive\n",
                "archive.write(file_name, \"Hello, this is a new file!\")\n",
                "\n",
                "# Append content to an existing file in the archive\n",
                "archive.append(file_name, \"\\nAdditional data appended.\")\n",
                "\n",
                "# Read the content of a file from the archive\n",
                "file_content = archive.read(\"data.txt\")\n",
                "print(f\">> Appended content:\\n{file_content}\")\n",
                "\n",
                "# archive has it's own FilesManager object\n",
                "print(f\">> Files in folder 'data': {archive.manager.list_files()}\")"
            ]
        },
        {
            "cell_type": "markdown",
            "metadata": {},
            "source": [
                "### Binary Data Compression"
            ]
        },
        {
            "cell_type": "code",
            "execution_count": 11,
            "metadata": {},
            "outputs": [
                {
                    "name": "stdout",
                    "output_type": "stream",
                    "text": [
                        "Binary content: b'\\x00\\x01\\x02\\x03\\x04\\x05\\x06\\x07'\n"
                    ]
                }
            ],
            "source": [
                "# Write binary content to a new file and add it to the archive\n",
                "binary_data = b'\\x00\\x01\\x02\\x03\\x04'\n",
                "archive.writeb(\"binary_data.bin\", binary_data)\n",
                "\n",
                "# Append binary content to an existing file in the archive\n",
                "new_binary_data = b'\\x05\\x06\\x07'\n",
                "archive.appendb(\"binary_data.bin\", new_binary_data)\n",
                "\n",
                "# Read the binary content of a file from the archive\n",
                "binary_content = archive.read(\"binary_data.bin\", as_text=False)\n",
                "\n",
                "print(\"Binary content:\", binary_content)"
            ]
        },
        {
            "cell_type": "markdown",
            "metadata": {},
            "source": [
                "### List members of the archive"
            ]
        },
        {
            "cell_type": "code",
            "execution_count": 12,
            "metadata": {},
            "outputs": [
                {
                    "name": "stdout",
                    "output_type": "stream",
                    "text": [
                        "['binary_data.bin', 'data.txt']\n"
                    ]
                }
            ],
            "source": [
                "print(archive.namelist())"
            ]
        },
        {
            "cell_type": "markdown",
            "metadata": {},
            "source": [
                "### Removing member"
            ]
        },
        {
            "cell_type": "code",
            "execution_count": 13,
            "metadata": {},
            "outputs": [
                {
                    "name": "stdout",
                    "output_type": "stream",
                    "text": [
                        "['data.txt']\n"
                    ]
                }
            ],
            "source": [
                "archive.remove('binary_data.bin')\n",
                "print(archive.namelist())"
            ]
        },
        {
            "cell_type": "markdown",
            "metadata": {},
            "source": [
                "### Updating member"
            ]
        },
        {
            "cell_type": "code",
            "execution_count": 14,
            "metadata": {},
            "outputs": [
                {
                    "name": "stdout",
                    "output_type": "stream",
                    "text": [
                        ">> Updated content:\n",
                        "Updated content\n",
                        ">> See that data.txt was deleted from wdir: ['file.customzip', 'binary_data.bin']\n"
                    ]
                }
            ],
            "source": [
                "member = 'data.txt'\n",
                "content = 'Updated content'\n",
                "\n",
                "with open(archive.manager.folder_path / member, mode='w', encoding='utf-8') as updated:\n",
                "    updated.write(content)\n",
                "\n",
                "archive.update(member, delete_source=True)\n",
                "\n",
                "file_content = archive.read(\"data.txt\")\n",
                "print(f\">> Updated content:\\n{file_content}\")\n",
                "print(f\">> See that {member} was deleted from wdir: {archive.manager.list_files()}\")"
            ]
        }
    ],
    "metadata": {
        "kernelspec": {
            "display_name": "Python 3",
            "language": "python",
            "name": "python3"
        },
        "language_info": {
            "codemirror_mode": {
                "name": "ipython",
                "version": 3
            },
            "file_extension": ".py",
            "mimetype": "text/x-python",
            "name": "python",
            "nbconvert_exporter": "python",
            "pygments_lexer": "ipython3",
            "version": "3.11.2"
        }
    },
    "nbformat": 4,
    "nbformat_minor": 4
}
